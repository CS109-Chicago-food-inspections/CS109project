{
 "cells": [
  {
   "cell_type": "code",
   "execution_count": 1,
   "metadata": {
    "collapsed": true
   },
   "outputs": [],
   "source": [
    "import numpy as np\n",
    "import pandas as pd\n",
    "import matplotlib.pyplot as plt\n",
    "% matplotlib inline"
   ]
  },
  {
   "cell_type": "code",
   "execution_count": 2,
   "metadata": {
    "collapsed": false
   },
   "outputs": [
    {
     "data": {
      "text/html": [
       "<div>\n",
       "<table border=\"1\" class=\"dataframe\">\n",
       "  <thead>\n",
       "    <tr style=\"text-align: right;\">\n",
       "      <th></th>\n",
       "      <th>Creation Date</th>\n",
       "      <th>Status</th>\n",
       "      <th>Completion Date</th>\n",
       "      <th>Service Request Number</th>\n",
       "      <th>Type of Service Request</th>\n",
       "      <th>What is the Nature of this Code Violation?</th>\n",
       "      <th>Street Address</th>\n",
       "      <th>ZIP Code</th>\n",
       "      <th>X Coordinate</th>\n",
       "      <th>Y Coordinate</th>\n",
       "      <th>Ward</th>\n",
       "      <th>Police District</th>\n",
       "      <th>Community Area</th>\n",
       "      <th>Latitude</th>\n",
       "      <th>Longitude</th>\n",
       "      <th>Location</th>\n",
       "    </tr>\n",
       "  </thead>\n",
       "  <tbody>\n",
       "    <tr>\n",
       "      <th>0</th>\n",
       "      <td>01/01/2011</td>\n",
       "      <td>Completed</td>\n",
       "      <td>01/03/2011</td>\n",
       "      <td>11-00001271</td>\n",
       "      <td>Sanitation Code Violation</td>\n",
       "      <td>Garbage in alley</td>\n",
       "      <td>3731 N KIMBALL AVE</td>\n",
       "      <td>60618.0</td>\n",
       "      <td>1.153055e+06</td>\n",
       "      <td>1.924737e+06</td>\n",
       "      <td>35.0</td>\n",
       "      <td>17.0</td>\n",
       "      <td>16.0</td>\n",
       "      <td>41.949330</td>\n",
       "      <td>-87.712791</td>\n",
       "      <td>(41.949330379708314, -87.71279114200225)</td>\n",
       "    </tr>\n",
       "    <tr>\n",
       "      <th>1</th>\n",
       "      <td>01/01/2011</td>\n",
       "      <td>Completed</td>\n",
       "      <td>01/03/2011</td>\n",
       "      <td>11-00001278</td>\n",
       "      <td>Sanitation Code Violation</td>\n",
       "      <td>Garbage in yard</td>\n",
       "      <td>3036 N SAWYER AVE</td>\n",
       "      <td>60618.0</td>\n",
       "      <td>1.154187e+06</td>\n",
       "      <td>1.920017e+06</td>\n",
       "      <td>35.0</td>\n",
       "      <td>14.0</td>\n",
       "      <td>21.0</td>\n",
       "      <td>41.936356</td>\n",
       "      <td>-87.708757</td>\n",
       "      <td>(41.93635566035826, -87.70875735748406)</td>\n",
       "    </tr>\n",
       "  </tbody>\n",
       "</table>\n",
       "</div>"
      ],
      "text/plain": [
       "  Creation Date     Status Completion Date Service Request Number  \\\n",
       "0    01/01/2011  Completed      01/03/2011            11-00001271   \n",
       "1    01/01/2011  Completed      01/03/2011            11-00001278   \n",
       "\n",
       "     Type of Service Request What is the Nature of this Code Violation?  \\\n",
       "0  Sanitation Code Violation                           Garbage in alley   \n",
       "1  Sanitation Code Violation                            Garbage in yard   \n",
       "\n",
       "       Street Address  ZIP Code  X Coordinate  Y Coordinate  Ward  \\\n",
       "0  3731 N KIMBALL AVE   60618.0  1.153055e+06  1.924737e+06  35.0   \n",
       "1   3036 N SAWYER AVE   60618.0  1.154187e+06  1.920017e+06  35.0   \n",
       "\n",
       "   Police District  Community Area   Latitude  Longitude  \\\n",
       "0             17.0            16.0  41.949330 -87.712791   \n",
       "1             14.0            21.0  41.936356 -87.708757   \n",
       "\n",
       "                                   Location  \n",
       "0  (41.949330379708314, -87.71279114200225)  \n",
       "1   (41.93635566035826, -87.70875735748406)  "
      ]
     },
     "execution_count": 2,
     "metadata": {},
     "output_type": "execute_result"
    }
   ],
   "source": [
    "# load the data\n",
    "dat_raw = pd.read_csv('./311_Service_Requests_-_Sanitation_Code_Complaints.csv',skiprows=[1])\n",
    "\n",
    "dat_raw.head(2)"
   ]
  },
  {
   "cell_type": "code",
   "execution_count": 3,
   "metadata": {
    "collapsed": false
   },
   "outputs": [],
   "source": [
    "# Remove the columns we are not likely to need\n",
    "dat_raw.drop(['Street Address','Location','Type of Service Request'],axis=1,inplace=True)\n",
    "# Note that \"type of service request\" is always \"Sanitation Code Violation\", so there is no information there."
   ]
  },
  {
   "cell_type": "code",
   "execution_count": 4,
   "metadata": {
    "collapsed": true
   },
   "outputs": [],
   "source": [
    "# Rename the complicated columns to simpler names\n",
    "dat_raw.rename(columns={'Creation Date':'created','Completion Date':'completed',\n",
    "                        'Service Request Number':'id_311',\n",
    "                        'What is the Nature of this Code Violation?':'nature','ZIP Code':'zip',\n",
    "                        'X Coordinate':'x','Y Coordinate':'y'},\n",
    "               inplace=True)\n",
    "dat_raw.columns = [w.lower() for w in dat_raw.columns]"
   ]
  },
  {
   "cell_type": "code",
   "execution_count": 5,
   "metadata": {
    "collapsed": false
   },
   "outputs": [],
   "source": [
    "# Change date fields into datestring format\n",
    "dat_raw['created'] = pd.to_datetime(dat_raw.created.astype('str'),infer_datetime_format=True)\n",
    "dat_raw['completed'] = pd.to_datetime(dat_raw.completed.astype('str'),infer_datetime_format=True)"
   ]
  },
  {
   "cell_type": "code",
   "execution_count": 6,
   "metadata": {
    "collapsed": false
   },
   "outputs": [
    {
     "data": {
      "text/html": [
       "<div>\n",
       "<table border=\"1\" class=\"dataframe\">\n",
       "  <thead>\n",
       "    <tr style=\"text-align: right;\">\n",
       "      <th></th>\n",
       "      <th>created</th>\n",
       "      <th>status</th>\n",
       "      <th>completed</th>\n",
       "      <th>id_311</th>\n",
       "      <th>nature</th>\n",
       "      <th>zip</th>\n",
       "      <th>x</th>\n",
       "      <th>y</th>\n",
       "      <th>ward</th>\n",
       "      <th>police district</th>\n",
       "      <th>community area</th>\n",
       "      <th>latitude</th>\n",
       "      <th>longitude</th>\n",
       "    </tr>\n",
       "  </thead>\n",
       "  <tbody>\n",
       "    <tr>\n",
       "      <th>0</th>\n",
       "      <td>2011-01-01</td>\n",
       "      <td>Completed</td>\n",
       "      <td>2011-01-03</td>\n",
       "      <td>11-00001271</td>\n",
       "      <td>Garbage in alley</td>\n",
       "      <td>60618.0</td>\n",
       "      <td>1.153055e+06</td>\n",
       "      <td>1.924737e+06</td>\n",
       "      <td>35.0</td>\n",
       "      <td>17.0</td>\n",
       "      <td>16.0</td>\n",
       "      <td>41.949330</td>\n",
       "      <td>-87.712791</td>\n",
       "    </tr>\n",
       "    <tr>\n",
       "      <th>1</th>\n",
       "      <td>2011-01-01</td>\n",
       "      <td>Completed</td>\n",
       "      <td>2011-01-03</td>\n",
       "      <td>11-00001278</td>\n",
       "      <td>Garbage in yard</td>\n",
       "      <td>60618.0</td>\n",
       "      <td>1.154187e+06</td>\n",
       "      <td>1.920017e+06</td>\n",
       "      <td>35.0</td>\n",
       "      <td>14.0</td>\n",
       "      <td>21.0</td>\n",
       "      <td>41.936356</td>\n",
       "      <td>-87.708757</td>\n",
       "    </tr>\n",
       "  </tbody>\n",
       "</table>\n",
       "</div>"
      ],
      "text/plain": [
       "     created     status  completed       id_311            nature      zip  \\\n",
       "0 2011-01-01  Completed 2011-01-03  11-00001271  Garbage in alley  60618.0   \n",
       "1 2011-01-01  Completed 2011-01-03  11-00001278   Garbage in yard  60618.0   \n",
       "\n",
       "              x             y  ward  police district  community area  \\\n",
       "0  1.153055e+06  1.924737e+06  35.0             17.0            16.0   \n",
       "1  1.154187e+06  1.920017e+06  35.0             14.0            21.0   \n",
       "\n",
       "    latitude  longitude  \n",
       "0  41.949330 -87.712791  \n",
       "1  41.936356 -87.708757  "
      ]
     },
     "execution_count": 6,
     "metadata": {},
     "output_type": "execute_result"
    }
   ],
   "source": [
    "dat_raw.head(2)"
   ]
  },
  {
   "cell_type": "code",
   "execution_count": 7,
   "metadata": {
    "collapsed": true
   },
   "outputs": [],
   "source": [
    "dat = dat_raw.copy()"
   ]
  },
  {
   "cell_type": "code",
   "execution_count": 8,
   "metadata": {
    "collapsed": true
   },
   "outputs": [],
   "source": [
    "dat.to_csv('311_clean.csv',index=False)"
   ]
  }
 ],
 "metadata": {
  "kernelspec": {
   "display_name": "Python [Root]",
   "language": "python",
   "name": "Python [Root]"
  },
  "language_info": {
   "codemirror_mode": {
    "name": "ipython",
    "version": 2
   },
   "file_extension": ".py",
   "mimetype": "text/x-python",
   "name": "python",
   "nbconvert_exporter": "python",
   "pygments_lexer": "ipython2",
   "version": "2.7.12"
  }
 },
 "nbformat": 4,
 "nbformat_minor": 0
}
