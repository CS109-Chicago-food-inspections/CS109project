{
 "cells": [
  {
   "cell_type": "code",
   "execution_count": 50,
   "metadata": {
    "collapsed": true
   },
   "outputs": [],
   "source": [
    "from __future__ import print_function\n",
    "from urllib2 import HTTPError\n",
    "from urllib import quote\n",
    "from urllib import urlencode\n",
    "from pprint import pprint\n",
    "\n",
    "import argparse\n",
    "import json\n",
    "import pprint\n",
    "import requests\n",
    "import sys\n",
    "import urllib\n",
    "import time\n",
    "\n",
    "from sklearn.model_selection import TimeSeriesSplit\n",
    "from sklearn.linear_model import LogisticRegression as LogReg\n",
    "\n",
    "import pandas as pd\n",
    "import numpy as np\n",
    "\n",
    "import matplotlib.pyplot as plt\n",
    "import matplotlib\n",
    "%matplotlib inline"
   ]
  },
  {
   "cell_type": "code",
   "execution_count": 2,
   "metadata": {
    "collapsed": false
   },
   "outputs": [],
   "source": [
    "# OAuth credential placeholders\n",
    "CLIENT_ID = 'sd5Ge9lqAHFdxK_wSPp3QA'\n",
    "CLIENT_SECRET = 'DRLcojBT3IAM1kVJDViB6QOHmjEIHEubFTpqHdfLHoEiTJSgEFt5Peqzbcajve7K'\n"
   ]
  },
  {
   "cell_type": "code",
   "execution_count": 3,
   "metadata": {
    "collapsed": true
   },
   "outputs": [],
   "source": [
    "# API constants, you shouldn't have to change these.\n",
    "API_HOST = 'https://api.yelp.com'\n",
    "SEARCH_PATH = '/v3/businesses/search'\n",
    "BUSINESS_PATH = '/v3/businesses/'  # Business ID will come after slash.\n",
    "TOKEN_PATH = '/oauth2/token'\n",
    "GRANT_TYPE = 'client_credentials'"
   ]
  },
  {
   "cell_type": "code",
   "execution_count": 4,
   "metadata": {
    "collapsed": false
   },
   "outputs": [],
   "source": [
    "url = 'https://api.yelp.com/oauth2/token'\n",
    "payload = {'grant_type':'client_credentials','client_id':'sd5Ge9lqAHFdxK_wSPp3QA','client_secret':'DRLcojBT3IAM1kVJDViB6QOHmjEIHEubFTpqHdfLHoEiTJSgEFt5Peqzbcajve7K'}\n",
    "\n",
    "r = requests.post(url, data=payload)"
   ]
  },
  {
   "cell_type": "code",
   "execution_count": 5,
   "metadata": {
    "collapsed": false
   },
   "outputs": [
    {
     "data": {
      "text/plain": [
       "u'{\"expires_in\": 15216754, \"token_type\": \"Bearer\", \"access_token\": \"n2C-ZzYcr5oDGNJBiHiqLGfFBtHi6cKcgDDuQNyrHXU8pgwmyaH2hZ54C4OD4L7OyzONVS2UTbPqjsDsrW_QXNIOkOfoSjTS5dvW9OeMUXFoOj6qdW5jSGq4nsdMWHYx\"}'"
      ]
     },
     "execution_count": 5,
     "metadata": {},
     "output_type": "execute_result"
    }
   ],
   "source": [
    "r.text"
   ]
  },
  {
   "cell_type": "code",
   "execution_count": 6,
   "metadata": {
    "collapsed": true
   },
   "outputs": [],
   "source": [
    "TOKEN = \"n2C-ZzYcr5oDGNJBiHiqLGfFBtHi6cKcgDDuQNyrHXU8pgwmyaH2hZ54C4OD4L7OyzONVS2UTbPqjsDsrW_QXNIOkOfoSjTS5dvW9OeMUXFoOj6qdW5jSGq4nsdMWHYx\"\n",
    "#return 5 results by default\n",
    "SEARCH_LIMIT = 1"
   ]
  },
  {
   "cell_type": "code",
   "execution_count": 7,
   "metadata": {
    "collapsed": false
   },
   "outputs": [],
   "source": [
    "def request(host, path, bearer_token, url_params=None):\n",
    "    \"\"\"Given a bearer token, send a GET request to the API.\n",
    "    Args:\n",
    "        host (str): The domain host of the API.\n",
    "        path (str): The path of the API after the domain.\n",
    "        bearer_token (str): OAuth bearer token, obtained using client_id and client_secret.\n",
    "        url_params (dict): An optional set of query parameters in the request.\n",
    "    Returns:\n",
    "        dict: The JSON response from the request.\n",
    "    Raises:\n",
    "        HTTPError: An error occurs from the HTTP request.\n",
    "    \"\"\"\n",
    "    url_params = url_params or {}\n",
    "    url = '{0}{1}'.format(host, quote(path.encode('utf8')))\n",
    "    headers = {\n",
    "        'Authorization': 'Bearer %s' % bearer_token,\n",
    "    }\n",
    "\n",
    "    print(u'Querying {0} ...'.format(url))\n",
    "\n",
    "    response = requests.request('GET', url, headers=headers, params=url_params)\n",
    "\n",
    "    return response.json()"
   ]
  },
  {
   "cell_type": "code",
   "execution_count": 8,
   "metadata": {
    "collapsed": false
   },
   "outputs": [],
   "source": [
    "def search(bearer_token, term, location):\n",
    "    \"\"\"Query the Search API by a search term and location.\n",
    "    Args:\n",
    "        term (str): The search term passed to the API.\n",
    "        location (str): The search location passed to the API.\n",
    "    Returns:\n",
    "        dict: The JSON response from the request.\n",
    "    \"\"\"\n",
    "\n",
    "    url_params = {\n",
    "        'term': term.replace(' ', '+'),\n",
    "        'location': location.replace(' ', '+'),\n",
    "        'limit': SEARCH_LIMIT\n",
    "    }\n",
    "    return request(API_HOST, SEARCH_PATH, bearer_token, url_params=url_params)"
   ]
  },
  {
   "cell_type": "code",
   "execution_count": 9,
   "metadata": {
    "collapsed": false
   },
   "outputs": [
    {
     "name": "stdout",
     "output_type": "stream",
     "text": [
      "Querying https://api.yelp.com/v3/businesses/search ...\n"
     ]
    }
   ],
   "source": [
    "#test the search function\n",
    "response = search(TOKEN, 'dominos', 'chicago')"
   ]
  },
  {
   "cell_type": "code",
   "execution_count": 10,
   "metadata": {
    "collapsed": false
   },
   "outputs": [
    {
     "data": {
      "text/plain": [
       "{u'businesses': [{u'categories': [{u'alias': u'pizza', u'title': u'Pizza'},\n",
       "    {u'alias': u'chicken_wings', u'title': u'Chicken Wings'},\n",
       "    {u'alias': u'sandwiches', u'title': u'Sandwiches'}],\n",
       "   u'coordinates': {u'latitude': 41.9244149, u'longitude': -87.7420833},\n",
       "   u'distance': 5740.245410879999,\n",
       "   u'id': u'dominos-pizza-chicago-11',\n",
       "   u'image_url': u'',\n",
       "   u'is_closed': False,\n",
       "   u'location': {u'address1': u'4608 W Fullerton Ave',\n",
       "    u'address2': u'',\n",
       "    u'address3': u'',\n",
       "    u'city': u'Chicago',\n",
       "    u'country': u'US',\n",
       "    u'state': u'IL',\n",
       "    u'zip_code': u'60639'},\n",
       "   u'name': u\"Domino's Pizza\",\n",
       "   u'phone': u'+17737729000',\n",
       "   u'price': u'$$',\n",
       "   u'rating': 3.5,\n",
       "   u'review_count': 19,\n",
       "   u'url': u'https://www.yelp.com/biz/dominos-pizza-chicago-11?adjust_creative=sd5Ge9lqAHFdxK_wSPp3QA&utm_campaign=yelp_api_v3&utm_medium=api_v3_business_search&utm_source=sd5Ge9lqAHFdxK_wSPp3QA'}],\n",
       " u'total': 104}"
      ]
     },
     "execution_count": 10,
     "metadata": {},
     "output_type": "execute_result"
    }
   ],
   "source": [
    "response"
   ]
  },
  {
   "cell_type": "code",
   "execution_count": 11,
   "metadata": {
    "collapsed": false
   },
   "outputs": [
    {
     "data": {
      "text/plain": [
       "[u'$$']"
      ]
     },
     "execution_count": 11,
     "metadata": {},
     "output_type": "execute_result"
    }
   ],
   "source": [
    "#test how to get info out of json file\n",
    "price = []\n",
    "rating = []\n",
    "estab_price = response['businesses'][0][\"price\"]\n",
    "estab_rating = response['businesses'][0][\"rating\"] \n",
    "price.append(estab_price)\n",
    "rating.append(estab_rating)\n",
    "price"
   ]
  },
  {
   "cell_type": "code",
   "execution_count": 13,
   "metadata": {
    "collapsed": false,
    "scrolled": true
   },
   "outputs": [
    {
     "data": {
      "text/html": [
       "<div>\n",
       "<table border=\"1\" class=\"dataframe\">\n",
       "  <thead>\n",
       "    <tr style=\"text-align: right;\">\n",
       "      <th></th>\n",
       "      <th>name</th>\n",
       "      <th>ID</th>\n",
       "      <th>license</th>\n",
       "      <th>date</th>\n",
       "      <th>Results</th>\n",
       "      <th>Risk</th>\n",
       "      <th>facility</th>\n",
       "      <th>inspection_type</th>\n",
       "      <th>month</th>\n",
       "      <th>day</th>\n",
       "      <th>year</th>\n",
       "      <th>day_of_week</th>\n",
       "      <th>day_of_year</th>\n",
       "      <th>Latitude</th>\n",
       "      <th>Longitude</th>\n",
       "      <th>Zip</th>\n",
       "    </tr>\n",
       "  </thead>\n",
       "  <tbody>\n",
       "    <tr>\n",
       "      <th>0</th>\n",
       "      <td>IYANZE</td>\n",
       "      <td>1970470</td>\n",
       "      <td>1909713.0</td>\n",
       "      <td>2016-10-28</td>\n",
       "      <td>1.0</td>\n",
       "      <td>1.0</td>\n",
       "      <td>Restaurant</td>\n",
       "      <td>Short Form Complaint</td>\n",
       "      <td>10</td>\n",
       "      <td>28</td>\n",
       "      <td>2016</td>\n",
       "      <td>4</td>\n",
       "      <td>302</td>\n",
       "      <td>41.966063</td>\n",
       "      <td>-87.657734</td>\n",
       "      <td>60640.0</td>\n",
       "    </tr>\n",
       "    <tr>\n",
       "      <th>2</th>\n",
       "      <td>DOMINOS</td>\n",
       "      <td>1970461</td>\n",
       "      <td>2464564.0</td>\n",
       "      <td>2016-10-28</td>\n",
       "      <td>0.0</td>\n",
       "      <td>2.0</td>\n",
       "      <td>Restaurant</td>\n",
       "      <td>Complaint Re-Inspection</td>\n",
       "      <td>10</td>\n",
       "      <td>28</td>\n",
       "      <td>2016</td>\n",
       "      <td>4</td>\n",
       "      <td>302</td>\n",
       "      <td>41.866277</td>\n",
       "      <td>-87.639360</td>\n",
       "      <td>60607.0</td>\n",
       "    </tr>\n",
       "    <tr>\n",
       "      <th>4</th>\n",
       "      <td>FIRST SLICE</td>\n",
       "      <td>1970429</td>\n",
       "      <td>1620340.0</td>\n",
       "      <td>2016-10-28</td>\n",
       "      <td>2.0</td>\n",
       "      <td>1.0</td>\n",
       "      <td>Restaurant</td>\n",
       "      <td>Complaint</td>\n",
       "      <td>10</td>\n",
       "      <td>28</td>\n",
       "      <td>2016</td>\n",
       "      <td>4</td>\n",
       "      <td>302</td>\n",
       "      <td>41.961619</td>\n",
       "      <td>-87.673833</td>\n",
       "      <td>60640.0</td>\n",
       "    </tr>\n",
       "    <tr>\n",
       "      <th>5</th>\n",
       "      <td>MCDONALDS</td>\n",
       "      <td>1951297</td>\n",
       "      <td>2349672.0</td>\n",
       "      <td>2016-10-28</td>\n",
       "      <td>0.0</td>\n",
       "      <td>2.0</td>\n",
       "      <td>Restaurant</td>\n",
       "      <td>Complaint</td>\n",
       "      <td>10</td>\n",
       "      <td>28</td>\n",
       "      <td>2016</td>\n",
       "      <td>4</td>\n",
       "      <td>302</td>\n",
       "      <td>41.883717</td>\n",
       "      <td>-87.626086</td>\n",
       "      <td>60602.0</td>\n",
       "    </tr>\n",
       "    <tr>\n",
       "      <th>6</th>\n",
       "      <td>PIZZA Y PAN PA' YA CORP.</td>\n",
       "      <td>1970418</td>\n",
       "      <td>2496099.0</td>\n",
       "      <td>2016-10-28</td>\n",
       "      <td>0.0</td>\n",
       "      <td>1.0</td>\n",
       "      <td>Restaurant</td>\n",
       "      <td>License</td>\n",
       "      <td>10</td>\n",
       "      <td>28</td>\n",
       "      <td>2016</td>\n",
       "      <td>4</td>\n",
       "      <td>302</td>\n",
       "      <td>41.961086</td>\n",
       "      <td>-87.706726</td>\n",
       "      <td>60618.0</td>\n",
       "    </tr>\n",
       "  </tbody>\n",
       "</table>\n",
       "</div>"
      ],
      "text/plain": [
       "                       name       ID    license       date  Results  Risk  \\\n",
       "0                    IYANZE  1970470  1909713.0 2016-10-28      1.0   1.0   \n",
       "2                   DOMINOS  1970461  2464564.0 2016-10-28      0.0   2.0   \n",
       "4               FIRST SLICE  1970429  1620340.0 2016-10-28      2.0   1.0   \n",
       "5                 MCDONALDS  1951297  2349672.0 2016-10-28      0.0   2.0   \n",
       "6  PIZZA Y PAN PA' YA CORP.  1970418  2496099.0 2016-10-28      0.0   1.0   \n",
       "\n",
       "     facility          inspection_type  month  day  year  day_of_week  \\\n",
       "0  Restaurant     Short Form Complaint     10   28  2016            4   \n",
       "2  Restaurant  Complaint Re-Inspection     10   28  2016            4   \n",
       "4  Restaurant                Complaint     10   28  2016            4   \n",
       "5  Restaurant                Complaint     10   28  2016            4   \n",
       "6  Restaurant                  License     10   28  2016            4   \n",
       "\n",
       "   day_of_year   Latitude  Longitude      Zip  \n",
       "0          302  41.966063 -87.657734  60640.0  \n",
       "2          302  41.866277 -87.639360  60607.0  \n",
       "4          302  41.961619 -87.673833  60640.0  \n",
       "5          302  41.883717 -87.626086  60602.0  \n",
       "6          302  41.961086 -87.706726  60618.0  "
      ]
     },
     "execution_count": 13,
     "metadata": {},
     "output_type": "execute_result"
    }
   ],
   "source": [
    "#let's mess with our data...\n",
    "insp = pd.read_csv('C:/Users/Joeseph/Dropbox/HGSE/CS109a Data Science/final project/data/Food_Inspections_Clean2.csv')\n",
    "insp['date'] = pd.to_datetime(insp['Inspection Date'].astype('str'),infer_datetime_format=True)\n",
    "insp.loc[:,'day_of_week']=insp.date.dt.dayofweek.values\n",
    "insp.loc[:,'day_of_year']=insp.date.dt.dayofyear.values\n",
    "insp.rename(columns={'AKA Name':'name','License #':'license','Inspection ID':'ID','Facility Type':'facility','Inspection Type':'inspection_type'},\n",
    "            inplace=True)\n",
    "insp = insp.query('facility in [\"Restaurant\",\"Grocery Store\",\"Bakery\"]')\n",
    "insp = insp[['name','ID','license','date','Results','Risk','facility','inspection_type',\n",
    "             'month','day','year','day_of_week','day_of_year','Latitude','Longitude','Zip']]\n",
    "insp.head()"
   ]
  },
  {
   "cell_type": "code",
   "execution_count": 14,
   "metadata": {
    "collapsed": true
   },
   "outputs": [],
   "source": [
    "#make sure all the names are strings (got a float error once...)\n",
    "insp['name'] = insp['name'].astype(str)"
   ]
  },
  {
   "cell_type": "code",
   "execution_count": 15,
   "metadata": {
    "collapsed": false
   },
   "outputs": [],
   "source": [
    "n = insp.shape[0]\n",
    "price = np.zeros(n)\n",
    "rating = np.zeros(n)\n",
    "insp['price'] = price\n",
    "insp['rating'] = rating"
   ]
  },
  {
   "cell_type": "code",
   "execution_count": 44,
   "metadata": {
    "collapsed": false
   },
   "outputs": [
    {
     "name": "stdout",
     "output_type": "stream",
     "text": [
      "Results for row 16310:\n",
      "Querying https://api.yelp.com/v3/businesses/search ...\n",
      "Results for row 16311:\n",
      "Querying https://api.yelp.com/v3/businesses/search ...\n",
      "Results for row 16312:\n",
      "Querying https://api.yelp.com/v3/businesses/search ...\n",
      "Results for row 16313:\n",
      "Querying https://api.yelp.com/v3/businesses/search ...\n",
      "Results for row 16314:\n",
      "Querying https://api.yelp.com/v3/businesses/search ...\n",
      "Results for row 16315:\n",
      "Querying https://api.yelp.com/v3/businesses/search ...\n",
      "Results for row 16316:\n",
      "Querying https://api.yelp.com/v3/businesses/search ...\n",
      "Results for row 16317:\n",
      "Querying https://api.yelp.com/v3/businesses/search ...\n",
      "Results for row 16318:\n",
      "Querying https://api.yelp.com/v3/businesses/search ...\n"
     ]
    },
    {
     "ename": "ValueError",
     "evalue": "No JSON object could be decoded",
     "output_type": "error",
     "traceback": [
      "\u001b[0;31m---------------------------------------------------------------------------\u001b[0m",
      "\u001b[0;31mValueError\u001b[0m                                Traceback (most recent call last)",
      "\u001b[0;32m<ipython-input-44-08ac8697909d>\u001b[0m in \u001b[0;36m<module>\u001b[0;34m()\u001b[0m\n\u001b[0;32m----> 1\u001b[0;31m \u001b[0mget_ipython\u001b[0m\u001b[1;33m(\u001b[0m\u001b[1;33m)\u001b[0m\u001b[1;33m.\u001b[0m\u001b[0mrun_cell_magic\u001b[0m\u001b[1;33m(\u001b[0m\u001b[1;34mu'time'\u001b[0m\u001b[1;33m,\u001b[0m \u001b[1;34mu''\u001b[0m\u001b[1;33m,\u001b[0m \u001b[1;34mu'\\nfor i in range(16310,n):\\n    print(\\'Results for row {}:\\'.format(i))\\n    response = search(TOKEN, insp.iloc[i,0], \\'chicago\\')\\n    time.sleep(1)\\n    if response[\\'total\\'] == 0:\\n        insp.iloc[i,16] = 0\\n        insp.iloc[i,17] = 0\\n    elif \\'price\\' not in (response[\\'businesses\\'][0] or response[\\'businesses\\']):\\n        insp.iloc[i,16] = 0\\n        insp.iloc[i,17] = 0\\n    else:\\n        insp.iloc[i,16] = response[\\'businesses\\'][0][\"price\"]\\n        insp.iloc[i,17] = response[\\'businesses\\'][0][\"rating\"]'\u001b[0m\u001b[1;33m)\u001b[0m\u001b[1;33m\u001b[0m\u001b[0m\n\u001b[0m",
      "\u001b[0;32mC:\\Users\\Joeseph\\Anaconda2\\lib\\site-packages\\IPython\\core\\interactiveshell.pyc\u001b[0m in \u001b[0;36mrun_cell_magic\u001b[0;34m(self, magic_name, line, cell)\u001b[0m\n\u001b[1;32m   2113\u001b[0m             \u001b[0mmagic_arg_s\u001b[0m \u001b[1;33m=\u001b[0m \u001b[0mself\u001b[0m\u001b[1;33m.\u001b[0m\u001b[0mvar_expand\u001b[0m\u001b[1;33m(\u001b[0m\u001b[0mline\u001b[0m\u001b[1;33m,\u001b[0m \u001b[0mstack_depth\u001b[0m\u001b[1;33m)\u001b[0m\u001b[1;33m\u001b[0m\u001b[0m\n\u001b[1;32m   2114\u001b[0m             \u001b[1;32mwith\u001b[0m \u001b[0mself\u001b[0m\u001b[1;33m.\u001b[0m\u001b[0mbuiltin_trap\u001b[0m\u001b[1;33m:\u001b[0m\u001b[1;33m\u001b[0m\u001b[0m\n\u001b[0;32m-> 2115\u001b[0;31m                 \u001b[0mresult\u001b[0m \u001b[1;33m=\u001b[0m \u001b[0mfn\u001b[0m\u001b[1;33m(\u001b[0m\u001b[0mmagic_arg_s\u001b[0m\u001b[1;33m,\u001b[0m \u001b[0mcell\u001b[0m\u001b[1;33m)\u001b[0m\u001b[1;33m\u001b[0m\u001b[0m\n\u001b[0m\u001b[1;32m   2116\u001b[0m             \u001b[1;32mreturn\u001b[0m \u001b[0mresult\u001b[0m\u001b[1;33m\u001b[0m\u001b[0m\n\u001b[1;32m   2117\u001b[0m \u001b[1;33m\u001b[0m\u001b[0m\n",
      "\u001b[0;32m<decorator-gen-60>\u001b[0m in \u001b[0;36mtime\u001b[0;34m(self, line, cell, local_ns)\u001b[0m\n",
      "\u001b[0;32mC:\\Users\\Joeseph\\Anaconda2\\lib\\site-packages\\IPython\\core\\magic.pyc\u001b[0m in \u001b[0;36m<lambda>\u001b[0;34m(f, *a, **k)\u001b[0m\n\u001b[1;32m    186\u001b[0m     \u001b[1;31m# but it's overkill for just that one bit of state.\u001b[0m\u001b[1;33m\u001b[0m\u001b[1;33m\u001b[0m\u001b[0m\n\u001b[1;32m    187\u001b[0m     \u001b[1;32mdef\u001b[0m \u001b[0mmagic_deco\u001b[0m\u001b[1;33m(\u001b[0m\u001b[0marg\u001b[0m\u001b[1;33m)\u001b[0m\u001b[1;33m:\u001b[0m\u001b[1;33m\u001b[0m\u001b[0m\n\u001b[0;32m--> 188\u001b[0;31m         \u001b[0mcall\u001b[0m \u001b[1;33m=\u001b[0m \u001b[1;32mlambda\u001b[0m \u001b[0mf\u001b[0m\u001b[1;33m,\u001b[0m \u001b[1;33m*\u001b[0m\u001b[0ma\u001b[0m\u001b[1;33m,\u001b[0m \u001b[1;33m**\u001b[0m\u001b[0mk\u001b[0m\u001b[1;33m:\u001b[0m \u001b[0mf\u001b[0m\u001b[1;33m(\u001b[0m\u001b[1;33m*\u001b[0m\u001b[0ma\u001b[0m\u001b[1;33m,\u001b[0m \u001b[1;33m**\u001b[0m\u001b[0mk\u001b[0m\u001b[1;33m)\u001b[0m\u001b[1;33m\u001b[0m\u001b[0m\n\u001b[0m\u001b[1;32m    189\u001b[0m \u001b[1;33m\u001b[0m\u001b[0m\n\u001b[1;32m    190\u001b[0m         \u001b[1;32mif\u001b[0m \u001b[0mcallable\u001b[0m\u001b[1;33m(\u001b[0m\u001b[0marg\u001b[0m\u001b[1;33m)\u001b[0m\u001b[1;33m:\u001b[0m\u001b[1;33m\u001b[0m\u001b[0m\n",
      "\u001b[0;32mC:\\Users\\Joeseph\\Anaconda2\\lib\\site-packages\\IPython\\core\\magics\\execution.pyc\u001b[0m in \u001b[0;36mtime\u001b[0;34m(self, line, cell, local_ns)\u001b[0m\n\u001b[1;32m   1178\u001b[0m         \u001b[1;32melse\u001b[0m\u001b[1;33m:\u001b[0m\u001b[1;33m\u001b[0m\u001b[0m\n\u001b[1;32m   1179\u001b[0m             \u001b[0mst\u001b[0m \u001b[1;33m=\u001b[0m \u001b[0mclock2\u001b[0m\u001b[1;33m(\u001b[0m\u001b[1;33m)\u001b[0m\u001b[1;33m\u001b[0m\u001b[0m\n\u001b[0;32m-> 1180\u001b[0;31m             \u001b[1;32mexec\u001b[0m\u001b[1;33m(\u001b[0m\u001b[0mcode\u001b[0m\u001b[1;33m,\u001b[0m \u001b[0mglob\u001b[0m\u001b[1;33m,\u001b[0m \u001b[0mlocal_ns\u001b[0m\u001b[1;33m)\u001b[0m\u001b[1;33m\u001b[0m\u001b[0m\n\u001b[0m\u001b[1;32m   1181\u001b[0m             \u001b[0mend\u001b[0m \u001b[1;33m=\u001b[0m \u001b[0mclock2\u001b[0m\u001b[1;33m(\u001b[0m\u001b[1;33m)\u001b[0m\u001b[1;33m\u001b[0m\u001b[0m\n\u001b[1;32m   1182\u001b[0m             \u001b[0mout\u001b[0m \u001b[1;33m=\u001b[0m \u001b[0mNone\u001b[0m\u001b[1;33m\u001b[0m\u001b[0m\n",
      "\u001b[0;32m<timed exec>\u001b[0m in \u001b[0;36m<module>\u001b[0;34m()\u001b[0m\n",
      "\u001b[0;32m<ipython-input-33-67d1b9c849e0>\u001b[0m in \u001b[0;36msearch\u001b[0;34m(bearer_token, term, location)\u001b[0m\n\u001b[1;32m     13\u001b[0m         \u001b[1;34m'limit'\u001b[0m\u001b[1;33m:\u001b[0m \u001b[0mSEARCH_LIMIT\u001b[0m\u001b[1;33m\u001b[0m\u001b[0m\n\u001b[1;32m     14\u001b[0m     }\n\u001b[0;32m---> 15\u001b[0;31m     \u001b[1;32mreturn\u001b[0m \u001b[0mrequest\u001b[0m\u001b[1;33m(\u001b[0m\u001b[0mAPI_HOST\u001b[0m\u001b[1;33m,\u001b[0m \u001b[0mSEARCH_PATH\u001b[0m\u001b[1;33m,\u001b[0m \u001b[0mbearer_token\u001b[0m\u001b[1;33m,\u001b[0m \u001b[0murl_params\u001b[0m\u001b[1;33m=\u001b[0m\u001b[0murl_params\u001b[0m\u001b[1;33m)\u001b[0m\u001b[1;33m\u001b[0m\u001b[0m\n\u001b[0m",
      "\u001b[0;32m<ipython-input-32-e53879f72474>\u001b[0m in \u001b[0;36mrequest\u001b[0;34m(host, path, bearer_token, url_params)\u001b[0m\n\u001b[1;32m     21\u001b[0m     \u001b[0mresponse\u001b[0m \u001b[1;33m=\u001b[0m \u001b[0mrequests\u001b[0m\u001b[1;33m.\u001b[0m\u001b[0mrequest\u001b[0m\u001b[1;33m(\u001b[0m\u001b[1;34m'GET'\u001b[0m\u001b[1;33m,\u001b[0m \u001b[0murl\u001b[0m\u001b[1;33m,\u001b[0m \u001b[0mheaders\u001b[0m\u001b[1;33m=\u001b[0m\u001b[0mheaders\u001b[0m\u001b[1;33m,\u001b[0m \u001b[0mparams\u001b[0m\u001b[1;33m=\u001b[0m\u001b[0murl_params\u001b[0m\u001b[1;33m)\u001b[0m\u001b[1;33m\u001b[0m\u001b[0m\n\u001b[1;32m     22\u001b[0m \u001b[1;33m\u001b[0m\u001b[0m\n\u001b[0;32m---> 23\u001b[0;31m     \u001b[1;32mreturn\u001b[0m \u001b[0mresponse\u001b[0m\u001b[1;33m.\u001b[0m\u001b[0mjson\u001b[0m\u001b[1;33m(\u001b[0m\u001b[1;33m)\u001b[0m\u001b[1;33m\u001b[0m\u001b[0m\n\u001b[0m",
      "\u001b[0;32mC:\\Users\\Joeseph\\Anaconda2\\lib\\site-packages\\requests\\models.pyc\u001b[0m in \u001b[0;36mjson\u001b[0;34m(self, **kwargs)\u001b[0m\n\u001b[1;32m    824\u001b[0m                     \u001b[1;31m# used.\u001b[0m\u001b[1;33m\u001b[0m\u001b[1;33m\u001b[0m\u001b[0m\n\u001b[1;32m    825\u001b[0m                     \u001b[1;32mpass\u001b[0m\u001b[1;33m\u001b[0m\u001b[0m\n\u001b[0;32m--> 826\u001b[0;31m         \u001b[1;32mreturn\u001b[0m \u001b[0mcomplexjson\u001b[0m\u001b[1;33m.\u001b[0m\u001b[0mloads\u001b[0m\u001b[1;33m(\u001b[0m\u001b[0mself\u001b[0m\u001b[1;33m.\u001b[0m\u001b[0mtext\u001b[0m\u001b[1;33m,\u001b[0m \u001b[1;33m**\u001b[0m\u001b[0mkwargs\u001b[0m\u001b[1;33m)\u001b[0m\u001b[1;33m\u001b[0m\u001b[0m\n\u001b[0m\u001b[1;32m    827\u001b[0m \u001b[1;33m\u001b[0m\u001b[0m\n\u001b[1;32m    828\u001b[0m     \u001b[1;33m@\u001b[0m\u001b[0mproperty\u001b[0m\u001b[1;33m\u001b[0m\u001b[0m\n",
      "\u001b[0;32mC:\\Users\\Joeseph\\Anaconda2\\lib\\json\\__init__.pyc\u001b[0m in \u001b[0;36mloads\u001b[0;34m(s, encoding, cls, object_hook, parse_float, parse_int, parse_constant, object_pairs_hook, **kw)\u001b[0m\n\u001b[1;32m    337\u001b[0m             \u001b[0mparse_int\u001b[0m \u001b[1;32mis\u001b[0m \u001b[0mNone\u001b[0m \u001b[1;32mand\u001b[0m \u001b[0mparse_float\u001b[0m \u001b[1;32mis\u001b[0m \u001b[0mNone\u001b[0m \u001b[1;32mand\u001b[0m\u001b[1;33m\u001b[0m\u001b[0m\n\u001b[1;32m    338\u001b[0m             parse_constant is None and object_pairs_hook is None and not kw):\n\u001b[0;32m--> 339\u001b[0;31m         \u001b[1;32mreturn\u001b[0m \u001b[0m_default_decoder\u001b[0m\u001b[1;33m.\u001b[0m\u001b[0mdecode\u001b[0m\u001b[1;33m(\u001b[0m\u001b[0ms\u001b[0m\u001b[1;33m)\u001b[0m\u001b[1;33m\u001b[0m\u001b[0m\n\u001b[0m\u001b[1;32m    340\u001b[0m     \u001b[1;32mif\u001b[0m \u001b[0mcls\u001b[0m \u001b[1;32mis\u001b[0m \u001b[0mNone\u001b[0m\u001b[1;33m:\u001b[0m\u001b[1;33m\u001b[0m\u001b[0m\n\u001b[1;32m    341\u001b[0m         \u001b[0mcls\u001b[0m \u001b[1;33m=\u001b[0m \u001b[0mJSONDecoder\u001b[0m\u001b[1;33m\u001b[0m\u001b[0m\n",
      "\u001b[0;32mC:\\Users\\Joeseph\\Anaconda2\\lib\\json\\decoder.pyc\u001b[0m in \u001b[0;36mdecode\u001b[0;34m(self, s, _w)\u001b[0m\n\u001b[1;32m    362\u001b[0m \u001b[1;33m\u001b[0m\u001b[0m\n\u001b[1;32m    363\u001b[0m         \"\"\"\n\u001b[0;32m--> 364\u001b[0;31m         \u001b[0mobj\u001b[0m\u001b[1;33m,\u001b[0m \u001b[0mend\u001b[0m \u001b[1;33m=\u001b[0m \u001b[0mself\u001b[0m\u001b[1;33m.\u001b[0m\u001b[0mraw_decode\u001b[0m\u001b[1;33m(\u001b[0m\u001b[0ms\u001b[0m\u001b[1;33m,\u001b[0m \u001b[0midx\u001b[0m\u001b[1;33m=\u001b[0m\u001b[0m_w\u001b[0m\u001b[1;33m(\u001b[0m\u001b[0ms\u001b[0m\u001b[1;33m,\u001b[0m \u001b[1;36m0\u001b[0m\u001b[1;33m)\u001b[0m\u001b[1;33m.\u001b[0m\u001b[0mend\u001b[0m\u001b[1;33m(\u001b[0m\u001b[1;33m)\u001b[0m\u001b[1;33m)\u001b[0m\u001b[1;33m\u001b[0m\u001b[0m\n\u001b[0m\u001b[1;32m    365\u001b[0m         \u001b[0mend\u001b[0m \u001b[1;33m=\u001b[0m \u001b[0m_w\u001b[0m\u001b[1;33m(\u001b[0m\u001b[0ms\u001b[0m\u001b[1;33m,\u001b[0m \u001b[0mend\u001b[0m\u001b[1;33m)\u001b[0m\u001b[1;33m.\u001b[0m\u001b[0mend\u001b[0m\u001b[1;33m(\u001b[0m\u001b[1;33m)\u001b[0m\u001b[1;33m\u001b[0m\u001b[0m\n\u001b[1;32m    366\u001b[0m         \u001b[1;32mif\u001b[0m \u001b[0mend\u001b[0m \u001b[1;33m!=\u001b[0m \u001b[0mlen\u001b[0m\u001b[1;33m(\u001b[0m\u001b[0ms\u001b[0m\u001b[1;33m)\u001b[0m\u001b[1;33m:\u001b[0m\u001b[1;33m\u001b[0m\u001b[0m\n",
      "\u001b[0;32mC:\\Users\\Joeseph\\Anaconda2\\lib\\json\\decoder.pyc\u001b[0m in \u001b[0;36mraw_decode\u001b[0;34m(self, s, idx)\u001b[0m\n\u001b[1;32m    380\u001b[0m             \u001b[0mobj\u001b[0m\u001b[1;33m,\u001b[0m \u001b[0mend\u001b[0m \u001b[1;33m=\u001b[0m \u001b[0mself\u001b[0m\u001b[1;33m.\u001b[0m\u001b[0mscan_once\u001b[0m\u001b[1;33m(\u001b[0m\u001b[0ms\u001b[0m\u001b[1;33m,\u001b[0m \u001b[0midx\u001b[0m\u001b[1;33m)\u001b[0m\u001b[1;33m\u001b[0m\u001b[0m\n\u001b[1;32m    381\u001b[0m         \u001b[1;32mexcept\u001b[0m \u001b[0mStopIteration\u001b[0m\u001b[1;33m:\u001b[0m\u001b[1;33m\u001b[0m\u001b[0m\n\u001b[0;32m--> 382\u001b[0;31m             \u001b[1;32mraise\u001b[0m \u001b[0mValueError\u001b[0m\u001b[1;33m(\u001b[0m\u001b[1;34m\"No JSON object could be decoded\"\u001b[0m\u001b[1;33m)\u001b[0m\u001b[1;33m\u001b[0m\u001b[0m\n\u001b[0m\u001b[1;32m    383\u001b[0m         \u001b[1;32mreturn\u001b[0m \u001b[0mobj\u001b[0m\u001b[1;33m,\u001b[0m \u001b[0mend\u001b[0m\u001b[1;33m\u001b[0m\u001b[0m\n",
      "\u001b[0;31mValueError\u001b[0m: No JSON object could be decoded"
     ]
    }
   ],
   "source": [
    "%%time\n",
    "\n",
    "for i in range(16310,n):\n",
    "    print('Results for row {}:'.format(i))\n",
    "    response = search(TOKEN, insp.iloc[i,0], 'chicago')\n",
    "    time.sleep(1)\n",
    "    if response['total'] == 0:\n",
    "        insp.iloc[i,16] = 0\n",
    "        insp.iloc[i,17] = 0\n",
    "    elif 'price' not in (response['businesses'][0] or response['businesses']):\n",
    "        insp.iloc[i,16] = 0\n",
    "        insp.iloc[i,17] = 0\n",
    "    else:\n",
    "        insp.iloc[i,16] = response['businesses'][0][\"price\"]\n",
    "        insp.iloc[i,17] = response['businesses'][0][\"rating\"]"
   ]
  },
  {
   "cell_type": "code",
   "execution_count": 45,
   "metadata": {
    "collapsed": false
   },
   "outputs": [],
   "source": [
    "insp.to_csv('insp_yelp.csv', sep=',')"
   ]
  },
  {
   "cell_type": "code",
   "execution_count": 23,
   "metadata": {
    "collapsed": false
   },
   "outputs": [
    {
     "name": "stderr",
     "output_type": "stream",
     "text": [
      "C:\\Users\\CORSAIR\\Anaconda2\\lib\\site-packages\\IPython\\core\\interactiveshell.py:2717: DtypeWarning: Columns (16) have mixed types. Specify dtype option on import or set low_memory=False.\n",
      "  interactivity=interactivity, compiler=compiler, result=result)\n"
     ]
    },
    {
     "data": {
      "text/html": [
       "<div>\n",
       "<table border=\"1\" class=\"dataframe\">\n",
       "  <thead>\n",
       "    <tr style=\"text-align: right;\">\n",
       "      <th></th>\n",
       "      <th>name</th>\n",
       "      <th>ID</th>\n",
       "      <th>license</th>\n",
       "      <th>date</th>\n",
       "      <th>Results</th>\n",
       "      <th>Risk</th>\n",
       "      <th>facility</th>\n",
       "      <th>inspection_type</th>\n",
       "      <th>month</th>\n",
       "      <th>day</th>\n",
       "      <th>year</th>\n",
       "      <th>day_of_week</th>\n",
       "      <th>day_of_year</th>\n",
       "      <th>Latitude</th>\n",
       "      <th>Longitude</th>\n",
       "      <th>Zip</th>\n",
       "      <th>price</th>\n",
       "      <th>rating</th>\n",
       "    </tr>\n",
       "  </thead>\n",
       "  <tbody>\n",
       "    <tr>\n",
       "      <th>0</th>\n",
       "      <td>IYANZE</td>\n",
       "      <td>1970470</td>\n",
       "      <td>1909713.0</td>\n",
       "      <td>10/28/2016</td>\n",
       "      <td>1</td>\n",
       "      <td>1.0</td>\n",
       "      <td>Restaurant</td>\n",
       "      <td>Short Form Complaint</td>\n",
       "      <td>10</td>\n",
       "      <td>28</td>\n",
       "      <td>2016</td>\n",
       "      <td>4</td>\n",
       "      <td>302</td>\n",
       "      <td>41.966063</td>\n",
       "      <td>-87.657734</td>\n",
       "      <td>60640.0</td>\n",
       "      <td>$$</td>\n",
       "      <td>3.0</td>\n",
       "    </tr>\n",
       "    <tr>\n",
       "      <th>1</th>\n",
       "      <td>DOMINOS</td>\n",
       "      <td>1970461</td>\n",
       "      <td>2464564.0</td>\n",
       "      <td>10/28/2016</td>\n",
       "      <td>0</td>\n",
       "      <td>2.0</td>\n",
       "      <td>Restaurant</td>\n",
       "      <td>Complaint Re-Inspection</td>\n",
       "      <td>10</td>\n",
       "      <td>28</td>\n",
       "      <td>2016</td>\n",
       "      <td>4</td>\n",
       "      <td>302</td>\n",
       "      <td>41.866277</td>\n",
       "      <td>-87.639360</td>\n",
       "      <td>60607.0</td>\n",
       "      <td>$$</td>\n",
       "      <td>3.5</td>\n",
       "    </tr>\n",
       "    <tr>\n",
       "      <th>2</th>\n",
       "      <td>FIRST SLICE</td>\n",
       "      <td>1970429</td>\n",
       "      <td>1620340.0</td>\n",
       "      <td>10/28/2016</td>\n",
       "      <td>2</td>\n",
       "      <td>1.0</td>\n",
       "      <td>Restaurant</td>\n",
       "      <td>Complaint</td>\n",
       "      <td>10</td>\n",
       "      <td>28</td>\n",
       "      <td>2016</td>\n",
       "      <td>4</td>\n",
       "      <td>302</td>\n",
       "      <td>41.961619</td>\n",
       "      <td>-87.673833</td>\n",
       "      <td>60640.0</td>\n",
       "      <td>$</td>\n",
       "      <td>4.5</td>\n",
       "    </tr>\n",
       "    <tr>\n",
       "      <th>3</th>\n",
       "      <td>MCDONALDS</td>\n",
       "      <td>1951297</td>\n",
       "      <td>2349672.0</td>\n",
       "      <td>10/28/2016</td>\n",
       "      <td>0</td>\n",
       "      <td>2.0</td>\n",
       "      <td>Restaurant</td>\n",
       "      <td>Complaint</td>\n",
       "      <td>10</td>\n",
       "      <td>28</td>\n",
       "      <td>2016</td>\n",
       "      <td>4</td>\n",
       "      <td>302</td>\n",
       "      <td>41.883717</td>\n",
       "      <td>-87.626086</td>\n",
       "      <td>60602.0</td>\n",
       "      <td>$</td>\n",
       "      <td>3.0</td>\n",
       "    </tr>\n",
       "    <tr>\n",
       "      <th>4</th>\n",
       "      <td>PIZZA Y PAN PA' YA CORP.</td>\n",
       "      <td>1970418</td>\n",
       "      <td>2496099.0</td>\n",
       "      <td>10/28/2016</td>\n",
       "      <td>0</td>\n",
       "      <td>1.0</td>\n",
       "      <td>Restaurant</td>\n",
       "      <td>License</td>\n",
       "      <td>10</td>\n",
       "      <td>28</td>\n",
       "      <td>2016</td>\n",
       "      <td>4</td>\n",
       "      <td>302</td>\n",
       "      <td>41.961086</td>\n",
       "      <td>-87.706726</td>\n",
       "      <td>60618.0</td>\n",
       "      <td>$$$</td>\n",
       "      <td>4.5</td>\n",
       "    </tr>\n",
       "  </tbody>\n",
       "</table>\n",
       "</div>"
      ],
      "text/plain": [
       "                       name       ID    license        date  Results  Risk  \\\n",
       "0                    IYANZE  1970470  1909713.0  10/28/2016        1   1.0   \n",
       "1                   DOMINOS  1970461  2464564.0  10/28/2016        0   2.0   \n",
       "2               FIRST SLICE  1970429  1620340.0  10/28/2016        2   1.0   \n",
       "3                 MCDONALDS  1951297  2349672.0  10/28/2016        0   2.0   \n",
       "4  PIZZA Y PAN PA' YA CORP.  1970418  2496099.0  10/28/2016        0   1.0   \n",
       "\n",
       "     facility          inspection_type  month  day  year  day_of_week  \\\n",
       "0  Restaurant     Short Form Complaint     10   28  2016            4   \n",
       "1  Restaurant  Complaint Re-Inspection     10   28  2016            4   \n",
       "2  Restaurant                Complaint     10   28  2016            4   \n",
       "3  Restaurant                Complaint     10   28  2016            4   \n",
       "4  Restaurant                  License     10   28  2016            4   \n",
       "\n",
       "   day_of_year   Latitude  Longitude      Zip price  rating  \n",
       "0          302  41.966063 -87.657734  60640.0    $$     3.0  \n",
       "1          302  41.866277 -87.639360  60607.0    $$     3.5  \n",
       "2          302  41.961619 -87.673833  60640.0     $     4.5  \n",
       "3          302  41.883717 -87.626086  60602.0     $     3.0  \n",
       "4          302  41.961086 -87.706726  60618.0   $$$     4.5  "
      ]
     },
     "execution_count": 23,
     "metadata": {},
     "output_type": "execute_result"
    }
   ],
   "source": [
    "insp_yelp = pd.read_csv('C:/Users/CORSAIR/Dropbox/HGSE/CS109a Data Science/final project/insp_yelp.csv', sep = ',')\n",
    "insp_yelp.head()"
   ]
  },
  {
   "cell_type": "code",
   "execution_count": 24,
   "metadata": {
    "collapsed": false
   },
   "outputs": [],
   "source": [
    "insp_yelp['price'] = insp_yelp['price'].astype(str)\n",
    "dollars = {'0': '0',\n",
    "           '0.0': '0',\n",
    "           '1': '1',\n",
    "           '2': '2',\n",
    "           '3': '3',\n",
    "           '4': '4',\n",
    "           '5': '5',\n",
    "           '$': '1',\n",
    "           '$$': '2',\n",
    "           '$$$': '3',\n",
    "           '$$$$': '4',\n",
    "           '$$$$$': '5'}\n",
    "for i in range(insp_yelp.shape[0]):\n",
    "    insp_yelp.iloc[i,16] = dollars[insp_yelp.iloc[i,16]]"
   ]
  },
  {
   "cell_type": "code",
   "execution_count": 25,
   "metadata": {
    "collapsed": false
   },
   "outputs": [
    {
     "data": {
      "text/plain": [
       "0    84108\n",
       "1     5874\n",
       "2     5724\n",
       "3      766\n",
       "4      272\n",
       "Name: price, dtype: int64"
      ]
     },
     "execution_count": 25,
     "metadata": {},
     "output_type": "execute_result"
    }
   ],
   "source": [
    "insp_yelp.price.value_counts().head(10)"
   ]
  },
  {
   "cell_type": "code",
   "execution_count": 26,
   "metadata": {
    "collapsed": false
   },
   "outputs": [
    {
     "data": {
      "text/plain": [
       "1    5874\n",
       "2    5724\n",
       "3     766\n",
       "4     272\n",
       "Name: price, dtype: int64"
      ]
     },
     "execution_count": 26,
     "metadata": {},
     "output_type": "execute_result"
    }
   ],
   "source": [
    "insp_yelp = insp_yelp[insp_yelp.price != '0']\n",
    "insp_yelp.price.value_counts().head(10)"
   ]
  },
  {
   "cell_type": "code",
   "execution_count": 27,
   "metadata": {
    "collapsed": true
   },
   "outputs": [],
   "source": [
    "insp_yelp['price'] = insp_yelp['price'].astype(int)"
   ]
  },
  {
   "cell_type": "code",
   "execution_count": 28,
   "metadata": {
    "collapsed": false
   },
   "outputs": [
    {
     "data": {
      "text/plain": [
       "4.0    4252\n",
       "3.5    3149\n",
       "4.5    1884\n",
       "3.0    1812\n",
       "5.0     742\n",
       "2.5     562\n",
       "2.0     153\n",
       "1.5      49\n",
       "1.0      32\n",
       "0.0       1\n",
       "Name: rating, dtype: int64"
      ]
     },
     "execution_count": 28,
     "metadata": {},
     "output_type": "execute_result"
    }
   ],
   "source": [
    "insp_yelp.rating.value_counts().head(10)"
   ]
  },
  {
   "cell_type": "code",
   "execution_count": 30,
   "metadata": {
    "collapsed": false
   },
   "outputs": [],
   "source": [
    "#load other data\n",
    "# Weather\n",
    "weath_big = pd.read_csv('C:/Users/CORSAIR/Dropbox/HGSE/CS109a Data Science/final project/data/Weather_clean.csv',parse_dates=[6])\n",
    "weath = weath_big[['date','tmax','tavg']]\n",
    "\n",
    "# Complaints\n",
    "comp_big = pd.read_csv('C:/Users/CORSAIR/Dropbox/HGSE/CS109a Data Science/final project/data/311_clean.csv',parse_dates=[0,2])\n",
    "#comp = comp_big[['created','nature','zip','longitude','latitude','ward','police district','community area']]\n",
    "comp = comp_big[['created','nature','longitude','latitude']]"
   ]
  },
  {
   "cell_type": "code",
   "execution_count": 31,
   "metadata": {
    "collapsed": false
   },
   "outputs": [
    {
     "name": "stderr",
     "output_type": "stream",
     "text": [
      "C:\\Users\\CORSAIR\\Anaconda2\\lib\\site-packages\\pandas\\core\\indexing.py:288: SettingWithCopyWarning: \n",
      "A value is trying to be set on a copy of a slice from a DataFrame.\n",
      "Try using .loc[row_indexer,col_indexer] = value instead\n",
      "\n",
      "See the caveats in the documentation: http://pandas.pydata.org/pandas-docs/stable/indexing.html#indexing-view-versus-copy\n",
      "  self.obj[key] = _infer_fill_value(value)\n",
      "C:\\Users\\CORSAIR\\Anaconda2\\lib\\site-packages\\pandas\\core\\indexing.py:465: SettingWithCopyWarning: \n",
      "A value is trying to be set on a copy of a slice from a DataFrame.\n",
      "Try using .loc[row_indexer,col_indexer] = value instead\n",
      "\n",
      "See the caveats in the documentation: http://pandas.pydata.org/pandas-docs/stable/indexing.html#indexing-view-versus-copy\n",
      "  self.obj[item] = s\n"
     ]
    }
   ],
   "source": [
    "# Convert longitude,latitude pairs to x-y coordinates.\n",
    "# I arbitrarily made a reference point (0,0) at -88,41.  This is slightly southwest of the city.\n",
    "# Then, I converted long,lat coordinates to x,y in kilometers:\n",
    "\n",
    "long_ref,lat_ref = -88,41\n",
    "lat_to_km = 111.07\n",
    "long_to_km = 83.00733\n",
    "\n",
    "def longlat2xy(longitude,latitude):\n",
    "    x = (longitude-long_ref)*long_to_km\n",
    "    y = (latitude-lat_ref)*lat_to_km\n",
    "    return x,y\n",
    "\n",
    "# Convert the locations in inspections and complaints.\n",
    "insp.loc[:,'x'],insp.loc[:,'y'] = longlat2xy(insp['Longitude'].values,insp['Latitude'].values)\n",
    "comp.loc[:,'x'],comp.loc[:,'y'] = longlat2xy(comp['longitude'].values,comp['latitude'].values)"
   ]
  },
  {
   "cell_type": "code",
   "execution_count": 33,
   "metadata": {
    "collapsed": false
   },
   "outputs": [],
   "source": [
    "# Filter inspection types\n",
    "insp = insp.query('inspection_type in [\"Canvass\",\"Complaint\",\"Short Form Complaint\",\"Suspected Food Poisoning\"]')"
   ]
  },
  {
   "cell_type": "code",
   "execution_count": 34,
   "metadata": {
    "collapsed": true
   },
   "outputs": [],
   "source": [
    "# Filter facility types\n",
    "insp = insp.query('facility in [\"Restaurant\",\"Grocery Store\",\"Bakery\"]')"
   ]
  },
  {
   "cell_type": "code",
   "execution_count": 35,
   "metadata": {
    "collapsed": true
   },
   "outputs": [],
   "source": [
    "# Drop records with no license.\n",
    "insp = insp[insp.license.notnull()]\n",
    "# Drop records with no location.\n",
    "insp = insp[insp.Latitude.notnull()]"
   ]
  },
  {
   "cell_type": "code",
   "execution_count": 39,
   "metadata": {
    "collapsed": true
   },
   "outputs": [],
   "source": [
    "# get 3-day high temp from weather data\n",
    "weath = weath_big[['date','tmax','tavg']]\n",
    "weath.ix[2494:2495,'tmax'] = weath.ix[2494:2495,'tavg']\n",
    "weath = weath.drop('tavg',axis=1)\n",
    "\n",
    "weath.ix[:,'tavg_3day']=weath['tmax'].rolling(window=3,min_periods=1).mean()\n",
    "insp = pd.merge(insp,weath[['date','tmax','tavg_3day']],how='left',on='date').set_index(insp.index)"
   ]
  },
  {
   "cell_type": "code",
   "execution_count": 41,
   "metadata": {
    "collapsed": false
   },
   "outputs": [],
   "source": [
    "#risk, facility, and inspection type\n",
    "it_dummies = pd.get_dummies(insp.inspection_type,prefix='it').drop('it_Canvass',axis=1)\n",
    "ft_dummies = pd.get_dummies(insp.facility,prefix='ft').drop('ft_Restaurant',axis=1)\n",
    "risk_dummies = pd.get_dummies(insp.Risk,prefix='risk').drop('risk_1.0',axis=1)\n",
    "price_dummies = pd.get_dummies(insp.price,prefix='price').drop('price_0',axis=1)\n",
    "rating_dummies = pd.get_dummies(insp.rating,prefix='rating').drop('rating_0.0',axis=1)\n",
    "\n",
    "#get rid of rare zips\n",
    "insp.loc[:,'zip2'] = insp.Zip.copy()\n",
    "smallzip_idx = insp.zip2.value_counts()<1000\n",
    "smallzips = smallzip_idx.index[smallzip_idx]\n",
    "insp.ix[insp.zip2.isin(smallzips),'zip2']=np.nan\n",
    "zip_dummies = pd.get_dummies(insp.zip2)"
   ]
  },
  {
   "cell_type": "code",
   "execution_count": 42,
   "metadata": {
    "collapsed": true
   },
   "outputs": [],
   "source": [
    "#loss function\n",
    "# Return the tuple (average neg log loss, characteristic probability)\n",
    "def log_loss(Ytrue,Ypred):\n",
    "    badidx = np.isnan(Ytrue)\n",
    "    Ytrue = Ytrue[~badidx]\n",
    "    Ypred = Ypred[~badidx,:]\n",
    "    n,m = Ypred.shape\n",
    "    \n",
    "    if not np.issubdtype(Ytrue.dtype,np.integer):\n",
    "        Ytrue = Ytrue.copy().astype('int')\n",
    "    \n",
    "    # p is the predicted probability of the event that happened\n",
    "    p = Ypred[np.arange(n),Ytrue]\n",
    "    # A hack to avoid being certain something will never happen\n",
    "    # This sets the minimum value to 0.01\n",
    "    x = 0.01031\n",
    "    p = (p+x)/(1+3*x)\n",
    "    \n",
    "    ave_loss = -np.log(p).mean()\n",
    "    char_p = np.exp(-ave_loss)\n",
    "    return ave_loss,char_p"
   ]
  },
  {
   "cell_type": "code",
   "execution_count": 43,
   "metadata": {
    "collapsed": true
   },
   "outputs": [],
   "source": [
    "# drop the first year.\n",
    "insp_final = insp[insp.year != 2011]"
   ]
  },
  {
   "cell_type": "code",
   "execution_count": 44,
   "metadata": {
    "collapsed": true
   },
   "outputs": [],
   "source": [
    "#gather all relevant predictors\n",
    "insp_final = insp_final[[u'name', u'ID', u'license', u'date',\n",
    "       u'Results', u'Risk', u'facility', u'inspection_type', u'month', u'day',\n",
    "       u'year', u'day_of_week', u'day_of_year', u'Latitude', u'Longitude',\n",
    "       u'Zip', u'price', u'rating', u'x', u'y', u'tmax', u'tavg_3day',\n",
    "       u'zip2']]\n",
    "insp_final.columns\n",
    "\n",
    "# Get the outcomes of the inspections;\n",
    "# Delete the rows with missing outcomes.\n",
    "Yall = insp_final.Results.values\n",
    "badidx = np.isnan(Yall)\n",
    "Y = Yall[~badidx]"
   ]
  },
  {
   "cell_type": "code",
   "execution_count": 47,
   "metadata": {
    "collapsed": false
   },
   "outputs": [],
   "source": [
    "# Make logistic models adding factors to the dow-year-zip (time-place models)\n",
    "\n",
    "# Do 10-fold CV to estimate generalization ability of the models.\n",
    "\n",
    "n = Y.shape[0]\n",
    "n_folds = 10\n",
    "kf = TimeSeriesSplit(n_splits=n_folds)\n",
    "\n",
    "model_names = ['baseline','insp_type+fac_type+risk','+price','+rating']\n",
    "n_models = len(model_names)\n",
    "\n",
    "# Define the predictors for each model\n",
    "X1 = pd.concat((it_dummies,ft_dummies,risk_dummies),axis=1).values\n",
    "X0 = (X1[:,0]*0+1).reshape(-1,1)\n",
    "X2 = pd.concat((it_dummies,ft_dummies,risk_dummies,\n",
    "               price_dummies),axis=1).values\n",
    "X3 = pd.concat((it_dummies,ft_dummies,risk_dummies,\n",
    "               price_dummies,rating_dummies),axis=1).values\n",
    "\n",
    "\n",
    "# Aggregate the predictors for all the models\n",
    "allX = []\n",
    "for i in range(n_models):\n",
    "    allX.append(eval('X{}'.format(i)))\n",
    "\n",
    "# Loop through the k-folds\n",
    "mll = np.empty((n_folds,n_models))\n",
    "charp = np.empty_like(mll)\n",
    "for i,(ktrain,ktest) in enumerate(kf.split(Y)):\n",
    "    \n",
    "    for j in range(n_models):\n",
    "        mdl = LogReg(C=1000).fit(allX[j][ktrain,:],Y[ktrain])\n",
    "        Yproba = mdl.predict_proba(allX[j][ktest,:])\n",
    "        mll[i,j],charp[i,j] = log_loss(Y[ktest],Yproba)"
   ]
  },
  {
   "cell_type": "code",
   "execution_count": 51,
   "metadata": {
    "collapsed": false
   },
   "outputs": [
    {
     "data": {
      "image/png": "[encoded data removed]",
      "text/plain": [
       "<matplotlib.figure.Figure at 0xe58a8d0>"
      ]
     },
     "metadata": {},
     "output_type": "display_data"
    }
   ],
   "source": [
    "# Plot the characteristic probability for each of the models\n",
    "plt.figure(figsize=(18,5))\n",
    "for i in range(2):\n",
    "    plt.subplot(1,2,i+1)\n",
    "    mnp = charp.mean(axis=0)\n",
    "    plt.bar(np.arange(n_models),mnp,align=\"center\")\n",
    "    mgx,_ = np.meshgrid(range(n_models),range(n_folds))\n",
    "    plt.plot(mgx,charp,'r.',markersize=15)\n",
    "    plt.plot(mgx[0,:],charp_insample,'g.',markersize=15)\n",
    "    plt.xticks(mgx[0,:],model_names,rotation=15)\n",
    "    plt.ylim([0,1])\n",
    "    plt.grid(axis='y')\n",
    "    plt.title('Logistic Regression with many attributes of the inspections')\n",
    "    if i==1:\n",
    "        plt.ylim([0.35,0.41])\n",
    "        plt.title('Logistic Regression Model Building w/ Yelp Data')\n",
    "    else:\n",
    "        plt.ylabel('Characteristic probability')\n",
    "plt.show()"
   ]
  }
 ],
 "metadata": {
  "anaconda-cloud": {},
  "kernelspec": {
   "display_name": "Python [conda root]",
   "language": "python",
   "name": "conda-root-py"
  },
  "language_info": {
   "codemirror_mode": {
    "name": "ipython",
    "version": 2
   },
   "file_extension": ".py",
   "mimetype": "text/x-python",
   "name": "python",
   "nbconvert_exporter": "python",
   "pygments_lexer": "ipython2",
   "version": "2.7.12"
  }
 },
 "nbformat": 4,
 "nbformat_minor": 1
}
